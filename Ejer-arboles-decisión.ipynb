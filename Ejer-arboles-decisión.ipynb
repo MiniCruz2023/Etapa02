{
 "cells": [
  {
   "cell_type": "markdown",
   "id": "a3752cd6-93d0-4839-a89d-593228d04709",
   "metadata": {},
   "source": [
    "## Arbol de decision"
   ]
  },
  {
   "cell_type": "code",
   "execution_count": 18,
   "id": "7d535648-d6c8-4f34-96a9-3272c7c2e98e",
   "metadata": {
    "tags": []
   },
   "outputs": [],
   "source": [
    "# Importa las bibliotecas necesarias\n",
    "import numpy as np\n",
    "import pandas as pd\n",
    "from sklearn.model_selection import train_test_split\n",
    "from sklearn.tree import DecisionTreeClassifier\n",
    "from sklearn.metrics import accuracy_score, classification_report"
   ]
  },
  {
   "cell_type": "code",
   "execution_count": 58,
   "id": "508772b8-68c7-4153-a6f8-8b84ff48fe0d",
   "metadata": {
    "tags": []
   },
   "outputs": [
    {
     "data": {
      "text/html": [
       "<div>\n",
       "<style scoped>\n",
       "    .dataframe tbody tr th:only-of-type {\n",
       "        vertical-align: middle;\n",
       "    }\n",
       "\n",
       "    .dataframe tbody tr th {\n",
       "        vertical-align: top;\n",
       "    }\n",
       "\n",
       "    .dataframe thead th {\n",
       "        text-align: right;\n",
       "    }\n",
       "</style>\n",
       "<table border=\"1\" class=\"dataframe\">\n",
       "  <thead>\n",
       "    <tr style=\"text-align: right;\">\n",
       "      <th></th>\n",
       "      <th>clase</th>\n",
       "      <th>alcohol</th>\n",
       "      <th>acido_metalico</th>\n",
       "      <th>Ceniza</th>\n",
       "      <th>alcalinidad_de_la ceniza</th>\n",
       "      <th>magnesio</th>\n",
       "      <th>fenoles_totales</th>\n",
       "      <th>flavonoides</th>\n",
       "      <th>fenoles_no_flavonoides</th>\n",
       "      <th>proantocianidinas</th>\n",
       "      <th>intensidad_de_color</th>\n",
       "      <th>tono</th>\n",
       "      <th>OD280_OD315_de_vinos_diluidos</th>\n",
       "      <th>prolina</th>\n",
       "    </tr>\n",
       "  </thead>\n",
       "  <tbody>\n",
       "    <tr>\n",
       "      <th>0</th>\n",
       "      <td>1</td>\n",
       "      <td>14.23</td>\n",
       "      <td>1.71</td>\n",
       "      <td>2.43</td>\n",
       "      <td>15.6</td>\n",
       "      <td>127</td>\n",
       "      <td>2.80</td>\n",
       "      <td>3.06</td>\n",
       "      <td>0.28</td>\n",
       "      <td>2.29</td>\n",
       "      <td>5.64</td>\n",
       "      <td>1.04</td>\n",
       "      <td>3.92</td>\n",
       "      <td>1065</td>\n",
       "    </tr>\n",
       "    <tr>\n",
       "      <th>1</th>\n",
       "      <td>1</td>\n",
       "      <td>13.20</td>\n",
       "      <td>1.78</td>\n",
       "      <td>2.14</td>\n",
       "      <td>11.2</td>\n",
       "      <td>100</td>\n",
       "      <td>2.65</td>\n",
       "      <td>2.76</td>\n",
       "      <td>0.26</td>\n",
       "      <td>1.28</td>\n",
       "      <td>4.38</td>\n",
       "      <td>1.05</td>\n",
       "      <td>3.40</td>\n",
       "      <td>1050</td>\n",
       "    </tr>\n",
       "    <tr>\n",
       "      <th>2</th>\n",
       "      <td>1</td>\n",
       "      <td>13.16</td>\n",
       "      <td>2.36</td>\n",
       "      <td>2.67</td>\n",
       "      <td>18.6</td>\n",
       "      <td>101</td>\n",
       "      <td>2.80</td>\n",
       "      <td>3.24</td>\n",
       "      <td>0.30</td>\n",
       "      <td>2.81</td>\n",
       "      <td>5.68</td>\n",
       "      <td>1.03</td>\n",
       "      <td>3.17</td>\n",
       "      <td>1185</td>\n",
       "    </tr>\n",
       "    <tr>\n",
       "      <th>3</th>\n",
       "      <td>1</td>\n",
       "      <td>14.37</td>\n",
       "      <td>1.95</td>\n",
       "      <td>2.50</td>\n",
       "      <td>16.8</td>\n",
       "      <td>113</td>\n",
       "      <td>3.85</td>\n",
       "      <td>3.49</td>\n",
       "      <td>0.24</td>\n",
       "      <td>2.18</td>\n",
       "      <td>7.80</td>\n",
       "      <td>0.86</td>\n",
       "      <td>3.45</td>\n",
       "      <td>1480</td>\n",
       "    </tr>\n",
       "    <tr>\n",
       "      <th>4</th>\n",
       "      <td>1</td>\n",
       "      <td>13.24</td>\n",
       "      <td>2.59</td>\n",
       "      <td>2.87</td>\n",
       "      <td>21.0</td>\n",
       "      <td>118</td>\n",
       "      <td>2.80</td>\n",
       "      <td>2.69</td>\n",
       "      <td>0.39</td>\n",
       "      <td>1.82</td>\n",
       "      <td>4.32</td>\n",
       "      <td>1.04</td>\n",
       "      <td>2.93</td>\n",
       "      <td>735</td>\n",
       "    </tr>\n",
       "  </tbody>\n",
       "</table>\n",
       "</div>"
      ],
      "text/plain": [
       "   clase  alcohol  acido_metalico  Ceniza  alcalinidad_de_la ceniza  magnesio  \\\n",
       "0      1    14.23            1.71    2.43                      15.6       127   \n",
       "1      1    13.20            1.78    2.14                      11.2       100   \n",
       "2      1    13.16            2.36    2.67                      18.6       101   \n",
       "3      1    14.37            1.95    2.50                      16.8       113   \n",
       "4      1    13.24            2.59    2.87                      21.0       118   \n",
       "\n",
       "   fenoles_totales  flavonoides  fenoles_no_flavonoides  proantocianidinas  \\\n",
       "0             2.80         3.06                    0.28               2.29   \n",
       "1             2.65         2.76                    0.26               1.28   \n",
       "2             2.80         3.24                    0.30               2.81   \n",
       "3             3.85         3.49                    0.24               2.18   \n",
       "4             2.80         2.69                    0.39               1.82   \n",
       "\n",
       "   intensidad_de_color  tono  OD280_OD315_de_vinos_diluidos  prolina  \n",
       "0                 5.64  1.04                           3.92     1065  \n",
       "1                 4.38  1.05                           3.40     1050  \n",
       "2                 5.68  1.03                           3.17     1185  \n",
       "3                 7.80  0.86                           3.45     1480  \n",
       "4                 4.32  1.04                           2.93      735  "
      ]
     },
     "execution_count": 58,
     "metadata": {},
     "output_type": "execute_result"
    }
   ],
   "source": [
    "# Intenta leer el archivo CSV utilizando una codificación diferente, por ejemplo, 'latin1'\n",
    "data = pd.read_csv('D:/ejercios/wineV2.csv')\n",
    "data.head()"
   ]
  },
  {
   "cell_type": "code",
   "execution_count": 59,
   "id": "2b40080a-fa3b-4e52-9111-1c200e47a935",
   "metadata": {
    "tags": []
   },
   "outputs": [
    {
     "data": {
      "text/plain": [
       "(178, 14)"
      ]
     },
     "execution_count": 59,
     "metadata": {},
     "output_type": "execute_result"
    }
   ],
   "source": [
    "data.shape"
   ]
  },
  {
   "cell_type": "code",
   "execution_count": 60,
   "id": "92c3ae08-8db3-41ee-a3e4-a089f517e3fb",
   "metadata": {
    "tags": []
   },
   "outputs": [
    {
     "data": {
      "text/html": [
       "<div>\n",
       "<style scoped>\n",
       "    .dataframe tbody tr th:only-of-type {\n",
       "        vertical-align: middle;\n",
       "    }\n",
       "\n",
       "    .dataframe tbody tr th {\n",
       "        vertical-align: top;\n",
       "    }\n",
       "\n",
       "    .dataframe thead th {\n",
       "        text-align: right;\n",
       "    }\n",
       "</style>\n",
       "<table border=\"1\" class=\"dataframe\">\n",
       "  <thead>\n",
       "    <tr style=\"text-align: right;\">\n",
       "      <th></th>\n",
       "      <th>clase</th>\n",
       "      <th>alcohol</th>\n",
       "      <th>acido_metalico</th>\n",
       "      <th>Ceniza</th>\n",
       "      <th>alcalinidad_de_la ceniza</th>\n",
       "      <th>magnesio</th>\n",
       "      <th>fenoles_totales</th>\n",
       "      <th>flavonoides</th>\n",
       "      <th>fenoles_no_flavonoides</th>\n",
       "      <th>proantocianidinas</th>\n",
       "      <th>intensidad_de_color</th>\n",
       "      <th>tono</th>\n",
       "      <th>OD280_OD315_de_vinos_diluidos</th>\n",
       "      <th>prolina</th>\n",
       "    </tr>\n",
       "  </thead>\n",
       "  <tbody>\n",
       "    <tr>\n",
       "      <th>count</th>\n",
       "      <td>178.000000</td>\n",
       "      <td>178.000000</td>\n",
       "      <td>178.000000</td>\n",
       "      <td>178.000000</td>\n",
       "      <td>178.000000</td>\n",
       "      <td>178.000000</td>\n",
       "      <td>178.000000</td>\n",
       "      <td>178.000000</td>\n",
       "      <td>178.000000</td>\n",
       "      <td>178.000000</td>\n",
       "      <td>178.000000</td>\n",
       "      <td>178.000000</td>\n",
       "      <td>178.000000</td>\n",
       "      <td>178.000000</td>\n",
       "    </tr>\n",
       "    <tr>\n",
       "      <th>mean</th>\n",
       "      <td>1.938202</td>\n",
       "      <td>13.000618</td>\n",
       "      <td>2.336348</td>\n",
       "      <td>2.366517</td>\n",
       "      <td>19.494944</td>\n",
       "      <td>99.741573</td>\n",
       "      <td>2.295112</td>\n",
       "      <td>2.029270</td>\n",
       "      <td>0.361854</td>\n",
       "      <td>1.590899</td>\n",
       "      <td>5.058034</td>\n",
       "      <td>0.957449</td>\n",
       "      <td>2.611685</td>\n",
       "      <td>746.893258</td>\n",
       "    </tr>\n",
       "    <tr>\n",
       "      <th>std</th>\n",
       "      <td>0.775035</td>\n",
       "      <td>0.811827</td>\n",
       "      <td>1.117146</td>\n",
       "      <td>0.274344</td>\n",
       "      <td>3.339564</td>\n",
       "      <td>14.282484</td>\n",
       "      <td>0.625851</td>\n",
       "      <td>0.998859</td>\n",
       "      <td>0.124453</td>\n",
       "      <td>0.572359</td>\n",
       "      <td>2.318168</td>\n",
       "      <td>0.228572</td>\n",
       "      <td>0.709990</td>\n",
       "      <td>314.907474</td>\n",
       "    </tr>\n",
       "    <tr>\n",
       "      <th>min</th>\n",
       "      <td>1.000000</td>\n",
       "      <td>11.030000</td>\n",
       "      <td>0.740000</td>\n",
       "      <td>1.360000</td>\n",
       "      <td>10.600000</td>\n",
       "      <td>70.000000</td>\n",
       "      <td>0.980000</td>\n",
       "      <td>0.340000</td>\n",
       "      <td>0.130000</td>\n",
       "      <td>0.410000</td>\n",
       "      <td>1.280000</td>\n",
       "      <td>0.480000</td>\n",
       "      <td>1.270000</td>\n",
       "      <td>278.000000</td>\n",
       "    </tr>\n",
       "    <tr>\n",
       "      <th>25%</th>\n",
       "      <td>1.000000</td>\n",
       "      <td>12.362500</td>\n",
       "      <td>1.602500</td>\n",
       "      <td>2.210000</td>\n",
       "      <td>17.200000</td>\n",
       "      <td>88.000000</td>\n",
       "      <td>1.742500</td>\n",
       "      <td>1.205000</td>\n",
       "      <td>0.270000</td>\n",
       "      <td>1.250000</td>\n",
       "      <td>3.220000</td>\n",
       "      <td>0.782500</td>\n",
       "      <td>1.937500</td>\n",
       "      <td>500.500000</td>\n",
       "    </tr>\n",
       "    <tr>\n",
       "      <th>50%</th>\n",
       "      <td>2.000000</td>\n",
       "      <td>13.050000</td>\n",
       "      <td>1.865000</td>\n",
       "      <td>2.360000</td>\n",
       "      <td>19.500000</td>\n",
       "      <td>98.000000</td>\n",
       "      <td>2.355000</td>\n",
       "      <td>2.135000</td>\n",
       "      <td>0.340000</td>\n",
       "      <td>1.555000</td>\n",
       "      <td>4.690000</td>\n",
       "      <td>0.965000</td>\n",
       "      <td>2.780000</td>\n",
       "      <td>673.500000</td>\n",
       "    </tr>\n",
       "    <tr>\n",
       "      <th>75%</th>\n",
       "      <td>3.000000</td>\n",
       "      <td>13.677500</td>\n",
       "      <td>3.082500</td>\n",
       "      <td>2.557500</td>\n",
       "      <td>21.500000</td>\n",
       "      <td>107.000000</td>\n",
       "      <td>2.800000</td>\n",
       "      <td>2.875000</td>\n",
       "      <td>0.437500</td>\n",
       "      <td>1.950000</td>\n",
       "      <td>6.200000</td>\n",
       "      <td>1.120000</td>\n",
       "      <td>3.170000</td>\n",
       "      <td>985.000000</td>\n",
       "    </tr>\n",
       "    <tr>\n",
       "      <th>max</th>\n",
       "      <td>3.000000</td>\n",
       "      <td>14.830000</td>\n",
       "      <td>5.800000</td>\n",
       "      <td>3.230000</td>\n",
       "      <td>30.000000</td>\n",
       "      <td>162.000000</td>\n",
       "      <td>3.880000</td>\n",
       "      <td>5.080000</td>\n",
       "      <td>0.660000</td>\n",
       "      <td>3.580000</td>\n",
       "      <td>13.000000</td>\n",
       "      <td>1.710000</td>\n",
       "      <td>4.000000</td>\n",
       "      <td>1680.000000</td>\n",
       "    </tr>\n",
       "  </tbody>\n",
       "</table>\n",
       "</div>"
      ],
      "text/plain": [
       "            clase     alcohol  acido_metalico      Ceniza  \\\n",
       "count  178.000000  178.000000      178.000000  178.000000   \n",
       "mean     1.938202   13.000618        2.336348    2.366517   \n",
       "std      0.775035    0.811827        1.117146    0.274344   \n",
       "min      1.000000   11.030000        0.740000    1.360000   \n",
       "25%      1.000000   12.362500        1.602500    2.210000   \n",
       "50%      2.000000   13.050000        1.865000    2.360000   \n",
       "75%      3.000000   13.677500        3.082500    2.557500   \n",
       "max      3.000000   14.830000        5.800000    3.230000   \n",
       "\n",
       "       alcalinidad_de_la ceniza    magnesio  fenoles_totales  flavonoides  \\\n",
       "count                178.000000  178.000000       178.000000   178.000000   \n",
       "mean                  19.494944   99.741573         2.295112     2.029270   \n",
       "std                    3.339564   14.282484         0.625851     0.998859   \n",
       "min                   10.600000   70.000000         0.980000     0.340000   \n",
       "25%                   17.200000   88.000000         1.742500     1.205000   \n",
       "50%                   19.500000   98.000000         2.355000     2.135000   \n",
       "75%                   21.500000  107.000000         2.800000     2.875000   \n",
       "max                   30.000000  162.000000         3.880000     5.080000   \n",
       "\n",
       "       fenoles_no_flavonoides  proantocianidinas  intensidad_de_color  \\\n",
       "count              178.000000         178.000000           178.000000   \n",
       "mean                 0.361854           1.590899             5.058034   \n",
       "std                  0.124453           0.572359             2.318168   \n",
       "min                  0.130000           0.410000             1.280000   \n",
       "25%                  0.270000           1.250000             3.220000   \n",
       "50%                  0.340000           1.555000             4.690000   \n",
       "75%                  0.437500           1.950000             6.200000   \n",
       "max                  0.660000           3.580000            13.000000   \n",
       "\n",
       "             tono  OD280_OD315_de_vinos_diluidos      prolina  \n",
       "count  178.000000                     178.000000   178.000000  \n",
       "mean     0.957449                       2.611685   746.893258  \n",
       "std      0.228572                       0.709990   314.907474  \n",
       "min      0.480000                       1.270000   278.000000  \n",
       "25%      0.782500                       1.937500   500.500000  \n",
       "50%      0.965000                       2.780000   673.500000  \n",
       "75%      1.120000                       3.170000   985.000000  \n",
       "max      1.710000                       4.000000  1680.000000  "
      ]
     },
     "execution_count": 60,
     "metadata": {},
     "output_type": "execute_result"
    }
   ],
   "source": [
    "data.describe()"
   ]
  },
  {
   "cell_type": "code",
   "execution_count": 61,
   "id": "d2901e45-cb22-4915-aa2b-1afdf6484bdd",
   "metadata": {
    "tags": []
   },
   "outputs": [
    {
     "data": {
      "text/plain": [
       "(array([59.,  0.,  0.,  0.,  0., 71.,  0.,  0.,  0., 48.]),\n",
       " array([1. , 1.2, 1.4, 1.6, 1.8, 2. , 2.2, 2.4, 2.6, 2.8, 3. ]),\n",
       " <BarContainer object of 10 artists>)"
      ]
     },
     "execution_count": 61,
     "metadata": {},
     "output_type": "execute_result"
    },
    {
     "data": {
      "image/png": "[encoded data removed]",
      "text/plain": [
       "<Figure size 640x480 with 1 Axes>"
      ]
     },
     "metadata": {},
     "output_type": "display_data"
    }
   ],
   "source": [
    "plt.hist(data.clase)"
   ]
  },
  {
   "cell_type": "code",
   "execution_count": 62,
   "id": "1d14e930-af8b-4420-9857-24a69a3aacd1",
   "metadata": {
    "tags": []
   },
   "outputs": [],
   "source": [
    "predictors_col = [\"alcohol\", \"acido_metalico\", \"Ceniza\", \"alcalinidad_de_la ceniza\", \"magnesio\", \"fenoles_totales\", \"flavonoides\", \"fenoles_no_flavonoides\", \"proantocianidinas\", \"intensidad_de_color\", \"tono\", \"OD280_OD315_de_vinos_diluidos\", \"prolina\"]\n",
    "target_col = ['clase']"
   ]
  },
  {
   "cell_type": "code",
   "execution_count": 65,
   "id": "a0bb1c13-afe4-48d1-97fd-3f2b3f8e0707",
   "metadata": {
    "tags": []
   },
   "outputs": [],
   "source": [
    "predictors = data[predictors_col]\n",
    "target = data[target_col]"
   ]
  },
  {
   "cell_type": "code",
   "execution_count": 66,
   "id": "03ebc1f7-5a4f-4e4a-8de9-b1c1ade28e14",
   "metadata": {
    "tags": []
   },
   "outputs": [],
   "source": [
    "X_train, X_test, y_train, y_test = train_test_split(predictors, target, test_size=0.2, random_state=13)"
   ]
  },
  {
   "cell_type": "code",
   "execution_count": 67,
   "id": "468715b1-467b-4937-80c9-4591fa9dbdcf",
   "metadata": {
    "tags": []
   },
   "outputs": [],
   "source": [
    "tree = DecisionTreeClassifier()"
   ]
  },
  {
   "cell_type": "code",
   "execution_count": 68,
   "id": "bd66d27a-b6dd-4e0f-b959-937824feb330",
   "metadata": {
    "tags": []
   },
   "outputs": [],
   "source": [
    "arbol = tree.fit(X_train, y_train)"
   ]
  },
  {
   "cell_type": "code",
   "execution_count": 49,
   "id": "a21f53b0-7801-410d-b9c2-28a830a3318f",
   "metadata": {
    "tags": []
   },
   "outputs": [
    {
     "data": {
      "text/plain": [
       "[Text(0.5, 0.9, 'x[9] <= 3.82\\ngini = 0.659\\nsamples = 142\\nvalue = [45, 57, 40]'),\n",
       " Text(0.3, 0.7, 'x[12] <= 1002.5\\ngini = 0.109\\nsamples = 52\\nvalue = [3, 49, 0]'),\n",
       " Text(0.2, 0.5, 'x[2] <= 3.07\\ngini = 0.039\\nsamples = 50\\nvalue = [1, 49, 0]'),\n",
       " Text(0.1, 0.3, 'gini = 0.0\\nsamples = 49\\nvalue = [0, 49, 0]'),\n",
       " Text(0.3, 0.3, 'gini = 0.0\\nsamples = 1\\nvalue = [1, 0, 0]'),\n",
       " Text(0.4, 0.5, 'gini = 0.0\\nsamples = 2\\nvalue = [2, 0, 0]'),\n",
       " Text(0.7, 0.7, 'x[6] <= 1.4\\ngini = 0.577\\nsamples = 90\\nvalue = [42, 8, 40]'),\n",
       " Text(0.6, 0.5, 'gini = 0.0\\nsamples = 40\\nvalue = [0, 0, 40]'),\n",
       " Text(0.8, 0.5, 'x[12] <= 724.5\\ngini = 0.269\\nsamples = 50\\nvalue = [42, 8, 0]'),\n",
       " Text(0.7, 0.3, 'x[0] <= 13.145\\ngini = 0.198\\nsamples = 9\\nvalue = [1, 8, 0]'),\n",
       " Text(0.6, 0.1, 'gini = 0.0\\nsamples = 8\\nvalue = [0, 8, 0]'),\n",
       " Text(0.8, 0.1, 'gini = 0.0\\nsamples = 1\\nvalue = [1, 0, 0]'),\n",
       " Text(0.9, 0.3, 'gini = 0.0\\nsamples = 41\\nvalue = [41, 0, 0]')]"
      ]
     },
     "execution_count": 49,
     "metadata": {},
     "output_type": "execute_result"
    },
    {
     "data": {
      "image/png": "[encoded data removed]",
      "text/plain": [
       "<Figure size 640x480 with 1 Axes>"
      ]
     },
     "metadata": {},
     "output_type": "display_data"
    }
   ],
   "source": [
    "plot_tree(arbol)"
   ]
  },
  {
   "cell_type": "code",
   "execution_count": 69,
   "id": "7652577b-b6c6-4935-af47-51c94b7ef562",
   "metadata": {
    "tags": []
   },
   "outputs": [],
   "source": [
    "predicciones = arbol.predict(X_test)"
   ]
  },
  {
   "cell_type": "code",
   "execution_count": 70,
   "id": "02226edc-cad0-486f-be18-8e4b50855d2f",
   "metadata": {
    "tags": []
   },
   "outputs": [
    {
     "data": {
      "text/html": [
       "<div>\n",
       "<style scoped>\n",
       "    .dataframe tbody tr th:only-of-type {\n",
       "        vertical-align: middle;\n",
       "    }\n",
       "\n",
       "    .dataframe tbody tr th {\n",
       "        vertical-align: top;\n",
       "    }\n",
       "\n",
       "    .dataframe thead th {\n",
       "        text-align: right;\n",
       "    }\n",
       "</style>\n",
       "<table border=\"1\" class=\"dataframe\">\n",
       "  <thead>\n",
       "    <tr style=\"text-align: right;\">\n",
       "      <th>Predicciones</th>\n",
       "      <th>1</th>\n",
       "      <th>2</th>\n",
       "      <th>3</th>\n",
       "    </tr>\n",
       "    <tr>\n",
       "      <th>Actual</th>\n",
       "      <th></th>\n",
       "      <th></th>\n",
       "      <th></th>\n",
       "    </tr>\n",
       "  </thead>\n",
       "  <tbody>\n",
       "    <tr>\n",
       "      <th>1</th>\n",
       "      <td>12</td>\n",
       "      <td>0</td>\n",
       "      <td>0</td>\n",
       "    </tr>\n",
       "    <tr>\n",
       "      <th>2</th>\n",
       "      <td>2</td>\n",
       "      <td>13</td>\n",
       "      <td>0</td>\n",
       "    </tr>\n",
       "    <tr>\n",
       "      <th>3</th>\n",
       "      <td>0</td>\n",
       "      <td>2</td>\n",
       "      <td>7</td>\n",
       "    </tr>\n",
       "  </tbody>\n",
       "</table>\n",
       "</div>"
      ],
      "text/plain": [
       "Predicciones   1   2  3\n",
       "Actual                 \n",
       "1             12   0  0\n",
       "2              2  13  0\n",
       "3              0   2  7"
      ]
     },
     "execution_count": 70,
     "metadata": {},
     "output_type": "execute_result"
    }
   ],
   "source": [
    "# Examinamos la matriz de confusión\n",
    "pd.crosstab(np.array([y[0] for y in y_test.values.tolist()]), predicciones, rownames=['Actual'], colnames=['Predicciones'])"
   ]
  },
  {
   "cell_type": "code",
   "execution_count": 71,
   "id": "941ba3f2-8c86-4d9f-9886-ab72c4d556b1",
   "metadata": {
    "tags": []
   },
   "outputs": [
    {
     "data": {
      "text/plain": [
       "0.8888888888888888"
      ]
     },
     "execution_count": 71,
     "metadata": {},
     "output_type": "execute_result"
    }
   ],
   "source": [
    "accuracy = accuracy_score(y_test,predicciones)\n",
    "accuracy"
   ]
  },
  {
   "cell_type": "code",
   "execution_count": null,
   "id": "bd549f94-0800-4400-9075-5c9c097827d4",
   "metadata": {},
   "outputs": [],
   "source": [
    "#El siguiente código que usamos en Python fue una datación de código expuesto en el CIPAS ANALISIS DE DATOS (16-04), Arboles de decisión 16 de septiembre de 2023-*Sandra Milena Patino Avella"
   ]
  }
 ],
 "metadata": {
  "kernelspec": {
   "display_name": "Python 3 (ipykernel)",
   "language": "python",
   "name": "python3"
  },
  "language_info": {
   "codemirror_mode": {
    "name": "ipython",
    "version": 3
   },
   "file_extension": ".py",
   "mimetype": "text/x-python",
   "name": "python",
   "nbconvert_exporter": "python",
   "pygments_lexer": "ipython3",
   "version": "3.11.4"
  }
 },
 "nbformat": 4,
 "nbformat_minor": 5
}
