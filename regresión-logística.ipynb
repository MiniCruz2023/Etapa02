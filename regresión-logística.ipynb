{
 "cells": [
  {
   "cell_type": "code",
   "execution_count": 1,
   "id": "3cfa5dd5-9332-459c-836b-92be0fb88e08",
   "metadata": {
    "tags": []
   },
   "outputs": [],
   "source": [
    "# Cargamos a nuestro entorno de trabajo las librerias necesarias.\n",
    "import pandas as pd\n",
    "import numpy as np\n",
    "import matplotlib.pyplot as plt"
   ]
  },
  {
   "cell_type": "code",
   "execution_count": 2,
   "id": "266b9092-45a8-44fc-9c64-ce457eab607f",
   "metadata": {
    "tags": []
   },
   "outputs": [],
   "source": [
    "#Cargamos la informacion del CSV en una variable llamada data\n",
    "# https://www.kaggle.com/datasets/kandij/diabetes-dataset\n",
    "# lectura de datos en Python\n",
    "train = pd.read_csv('D:/ejercios/framingham.csv')"
   ]
  },
  {
   "cell_type": "code",
   "execution_count": 51,
   "id": "7ba85f03-a402-402c-b174-0a0179a9ecb2",
   "metadata": {
    "tags": []
   },
   "outputs": [
    {
     "data": {
      "text/html": [
       "<div>\n",
       "<style scoped>\n",
       "    .dataframe tbody tr th:only-of-type {\n",
       "        vertical-align: middle;\n",
       "    }\n",
       "\n",
       "    .dataframe tbody tr th {\n",
       "        vertical-align: top;\n",
       "    }\n",
       "\n",
       "    .dataframe thead th {\n",
       "        text-align: right;\n",
       "    }\n",
       "</style>\n",
       "<table border=\"1\" class=\"dataframe\">\n",
       "  <thead>\n",
       "    <tr style=\"text-align: right;\">\n",
       "      <th></th>\n",
       "      <th>male</th>\n",
       "      <th>age</th>\n",
       "      <th>education</th>\n",
       "      <th>currentSmoker</th>\n",
       "      <th>cigsPerDay</th>\n",
       "      <th>BPMeds</th>\n",
       "      <th>prevalentStroke</th>\n",
       "      <th>prevalentHyp</th>\n",
       "      <th>diabetes</th>\n",
       "      <th>totChol</th>\n",
       "      <th>sysBP</th>\n",
       "      <th>diaBP</th>\n",
       "      <th>BMI</th>\n",
       "      <th>heartRate</th>\n",
       "      <th>glucose</th>\n",
       "      <th>TenYearCHD</th>\n",
       "    </tr>\n",
       "  </thead>\n",
       "  <tbody>\n",
       "    <tr>\n",
       "      <th>0</th>\n",
       "      <td>1</td>\n",
       "      <td>39</td>\n",
       "      <td>4.0</td>\n",
       "      <td>0</td>\n",
       "      <td>0</td>\n",
       "      <td>0.0</td>\n",
       "      <td>0</td>\n",
       "      <td>0</td>\n",
       "      <td>0</td>\n",
       "      <td>195</td>\n",
       "      <td>106.0</td>\n",
       "      <td>70.0</td>\n",
       "      <td>26.97</td>\n",
       "      <td>80</td>\n",
       "      <td>77</td>\n",
       "      <td>0</td>\n",
       "    </tr>\n",
       "    <tr>\n",
       "      <th>1</th>\n",
       "      <td>0</td>\n",
       "      <td>46</td>\n",
       "      <td>2.0</td>\n",
       "      <td>0</td>\n",
       "      <td>0</td>\n",
       "      <td>0.0</td>\n",
       "      <td>0</td>\n",
       "      <td>0</td>\n",
       "      <td>0</td>\n",
       "      <td>250</td>\n",
       "      <td>121.0</td>\n",
       "      <td>81.0</td>\n",
       "      <td>28.73</td>\n",
       "      <td>95</td>\n",
       "      <td>76</td>\n",
       "      <td>0</td>\n",
       "    </tr>\n",
       "    <tr>\n",
       "      <th>2</th>\n",
       "      <td>1</td>\n",
       "      <td>48</td>\n",
       "      <td>1.0</td>\n",
       "      <td>1</td>\n",
       "      <td>20</td>\n",
       "      <td>0.0</td>\n",
       "      <td>0</td>\n",
       "      <td>0</td>\n",
       "      <td>0</td>\n",
       "      <td>245</td>\n",
       "      <td>127.5</td>\n",
       "      <td>80.0</td>\n",
       "      <td>25.34</td>\n",
       "      <td>75</td>\n",
       "      <td>70</td>\n",
       "      <td>0</td>\n",
       "    </tr>\n",
       "    <tr>\n",
       "      <th>3</th>\n",
       "      <td>0</td>\n",
       "      <td>61</td>\n",
       "      <td>3.0</td>\n",
       "      <td>1</td>\n",
       "      <td>30</td>\n",
       "      <td>0.0</td>\n",
       "      <td>0</td>\n",
       "      <td>1</td>\n",
       "      <td>0</td>\n",
       "      <td>225</td>\n",
       "      <td>150.0</td>\n",
       "      <td>95.0</td>\n",
       "      <td>28.58</td>\n",
       "      <td>65</td>\n",
       "      <td>103</td>\n",
       "      <td>1</td>\n",
       "    </tr>\n",
       "    <tr>\n",
       "      <th>4</th>\n",
       "      <td>0</td>\n",
       "      <td>46</td>\n",
       "      <td>3.0</td>\n",
       "      <td>1</td>\n",
       "      <td>23</td>\n",
       "      <td>0.0</td>\n",
       "      <td>0</td>\n",
       "      <td>0</td>\n",
       "      <td>0</td>\n",
       "      <td>285</td>\n",
       "      <td>130.0</td>\n",
       "      <td>84.0</td>\n",
       "      <td>23.10</td>\n",
       "      <td>85</td>\n",
       "      <td>85</td>\n",
       "      <td>0</td>\n",
       "    </tr>\n",
       "  </tbody>\n",
       "</table>\n",
       "</div>"
      ],
      "text/plain": [
       "   male  age  education  currentSmoker  cigsPerDay  BPMeds  prevalentStroke  \\\n",
       "0     1   39        4.0              0           0     0.0                0   \n",
       "1     0   46        2.0              0           0     0.0                0   \n",
       "2     1   48        1.0              1          20     0.0                0   \n",
       "3     0   61        3.0              1          30     0.0                0   \n",
       "4     0   46        3.0              1          23     0.0                0   \n",
       "\n",
       "   prevalentHyp  diabetes  totChol  sysBP  diaBP    BMI  heartRate  glucose  \\\n",
       "0             0         0      195  106.0   70.0  26.97         80       77   \n",
       "1             0         0      250  121.0   81.0  28.73         95       76   \n",
       "2             0         0      245  127.5   80.0  25.34         75       70   \n",
       "3             1         0      225  150.0   95.0  28.58         65      103   \n",
       "4             0         0      285  130.0   84.0  23.10         85       85   \n",
       "\n",
       "   TenYearCHD  \n",
       "0           0  \n",
       "1           0  \n",
       "2           0  \n",
       "3           1  \n",
       "4           0  "
      ]
     },
     "execution_count": 51,
     "metadata": {},
     "output_type": "execute_result"
    }
   ],
   "source": [
    "train.head()"
   ]
  },
  {
   "cell_type": "code",
   "execution_count": 52,
   "id": "2b50db8c-ecba-4181-849f-30e6178ed0f6",
   "metadata": {
    "tags": []
   },
   "outputs": [
    {
     "data": {
      "text/html": [
       "<div>\n",
       "<style scoped>\n",
       "    .dataframe tbody tr th:only-of-type {\n",
       "        vertical-align: middle;\n",
       "    }\n",
       "\n",
       "    .dataframe tbody tr th {\n",
       "        vertical-align: top;\n",
       "    }\n",
       "\n",
       "    .dataframe thead th {\n",
       "        text-align: right;\n",
       "    }\n",
       "</style>\n",
       "<table border=\"1\" class=\"dataframe\">\n",
       "  <thead>\n",
       "    <tr style=\"text-align: right;\">\n",
       "      <th></th>\n",
       "      <th>glucose</th>\n",
       "      <th>age</th>\n",
       "    </tr>\n",
       "  </thead>\n",
       "  <tbody>\n",
       "    <tr>\n",
       "      <th>0</th>\n",
       "      <td>77</td>\n",
       "      <td>39</td>\n",
       "    </tr>\n",
       "    <tr>\n",
       "      <th>1</th>\n",
       "      <td>76</td>\n",
       "      <td>46</td>\n",
       "    </tr>\n",
       "    <tr>\n",
       "      <th>2</th>\n",
       "      <td>70</td>\n",
       "      <td>48</td>\n",
       "    </tr>\n",
       "    <tr>\n",
       "      <th>3</th>\n",
       "      <td>103</td>\n",
       "      <td>61</td>\n",
       "    </tr>\n",
       "    <tr>\n",
       "      <th>4</th>\n",
       "      <td>85</td>\n",
       "      <td>46</td>\n",
       "    </tr>\n",
       "  </tbody>\n",
       "</table>\n",
       "</div>"
      ],
      "text/plain": [
       "   glucose  age\n",
       "0       77   39\n",
       "1       76   46\n",
       "2       70   48\n",
       "3      103   61\n",
       "4       85   46"
      ]
     },
     "execution_count": 52,
     "metadata": {},
     "output_type": "execute_result"
    }
   ],
   "source": [
    "train[['glucose', 'age']].head()"
   ]
  },
  {
   "cell_type": "code",
   "execution_count": 3,
   "id": "6ec87823-c173-403a-b359-1b21f9f2682c",
   "metadata": {
    "tags": []
   },
   "outputs": [
    {
     "data": {
      "text/plain": [
       "<Axes: xlabel='glucose', ylabel='age'>"
      ]
     },
     "execution_count": 3,
     "metadata": {},
     "output_type": "execute_result"
    },
    {
     "data": {
      "image/png": "[encoded data removed]",
      "text/plain": [
       "<Figure size 640x480 with 1 Axes>"
      ]
     },
     "metadata": {},
     "output_type": "display_data"
    }
   ],
   "source": [
    "#Realizo la grafica de dispersion\n",
    "train[['glucose','age']].plot.scatter(x='glucose',y='age')"
   ]
  },
  {
   "cell_type": "code",
   "execution_count": 28,
   "id": "509a6465-0715-4b66-b197-63f0955f6e30",
   "metadata": {
    "tags": []
   },
   "outputs": [],
   "source": [
    "# pruebas de parametro\n",
    "w = 0.09\n",
    "b = -3.6"
   ]
  },
  {
   "cell_type": "code",
   "execution_count": 10,
   "id": "0972fb39-b3b5-4e84-9ae3-ac87eff5f356",
   "metadata": {
    "tags": []
   },
   "outputs": [],
   "source": [
    "# despues de hacer el modelos (se explica más adelante)\n",
    "# intercepto (b): [-3.68596089]\n",
    "# pendiente (w): [[0.09351691]]"
   ]
  },
  {
   "cell_type": "code",
   "execution_count": 54,
   "id": "9c849718-4329-4f6a-8ba0-5ce0899f127f",
   "metadata": {
    "tags": []
   },
   "outputs": [
    {
     "data": {
      "image/png": "[encoded data removed]",
      "text/plain": [
       "<Figure size 640x480 with 1 Axes>"
      ]
     },
     "metadata": {},
     "output_type": "display_data"
    }
   ],
   "source": [
    "# puntos de la recta\n",
    "x = np.linspace(0,train['glucose'].max(),100)\n",
    "y = 1/(1+np.exp(-(w*x+b)))\n",
    "# grafica de la recta\n",
    "train.plot.scatter(x='glucose',y='age')\n",
    "plt.plot(x, y, '-r')\n",
    "plt.ylim(0,train['age'].max()*1.1)\n",
    "# plt.grid()\n",
    "plt.show()"
   ]
  },
  {
   "cell_type": "code",
   "execution_count": 55,
   "id": "4f6f9745-8d7f-4062-aff8-8bcffd4cff27",
   "metadata": {
    "tags": []
   },
   "outputs": [
    {
     "data": {
      "text/plain": [
       "-396.0769812367658"
      ]
     },
     "execution_count": 55,
     "metadata": {},
     "output_type": "execute_result"
    }
   ],
   "source": [
    "# calculo de las predicciones\n",
    "train['sigmoid'] = 1/(1+np.exp(-(train['glucose']*w+b)))\n",
    "# calculo de la funcion de error\n",
    "train['loss_xi'] = -train['glucose']*np.log(train['sigmoid'])-(1-train['glucose'])*np.log(1-train['sigmoid'])\n",
    "cost_j = train['loss_xi'].mean()\n",
    "cost_j"
   ]
  },
  {
   "cell_type": "code",
   "execution_count": 13,
   "id": "34230a9d-3385-4dc9-8671-b7adc9685516",
   "metadata": {
    "tags": []
   },
   "outputs": [],
   "source": [
    "# hacemos dataframe para calcular el error en funcion de los parametros w, b"
   ]
  },
  {
   "cell_type": "code",
   "execution_count": 56,
   "id": "e11e3927-e9b5-4f4c-a262-9857b11774c6",
   "metadata": {
    "tags": []
   },
   "outputs": [],
   "source": [
    "array = np.mgrid[0.05:0.15:0.01, -4:-3:0.01].reshape(2,-1).T\n",
    "df = pd.DataFrame(data = array, \n",
    "                  columns = ['w','b'])\n",
    "\n",
    "# round para solventar problema con muchos decimales\n",
    "df['w'] = np.round(df['w'], 6)\n",
    "df['b'] = np.round(df['b'], 6)"
   ]
  },
  {
   "cell_type": "code",
   "execution_count": 44,
   "id": "b03023ec-c16a-42ea-9df8-e2b41beffef6",
   "metadata": {
    "tags": []
   },
   "outputs": [
    {
     "data": {
      "text/html": [
       "<div>\n",
       "<style scoped>\n",
       "    .dataframe tbody tr th:only-of-type {\n",
       "        vertical-align: middle;\n",
       "    }\n",
       "\n",
       "    .dataframe tbody tr th {\n",
       "        vertical-align: top;\n",
       "    }\n",
       "\n",
       "    .dataframe thead th {\n",
       "        text-align: right;\n",
       "    }\n",
       "</style>\n",
       "<table border=\"1\" class=\"dataframe\">\n",
       "  <thead>\n",
       "    <tr style=\"text-align: right;\">\n",
       "      <th></th>\n",
       "      <th>w</th>\n",
       "      <th>b</th>\n",
       "    </tr>\n",
       "  </thead>\n",
       "  <tbody>\n",
       "    <tr>\n",
       "      <th>0</th>\n",
       "      <td>0.05</td>\n",
       "      <td>-4.00</td>\n",
       "    </tr>\n",
       "    <tr>\n",
       "      <th>1</th>\n",
       "      <td>0.05</td>\n",
       "      <td>-3.99</td>\n",
       "    </tr>\n",
       "    <tr>\n",
       "      <th>2</th>\n",
       "      <td>0.05</td>\n",
       "      <td>-3.98</td>\n",
       "    </tr>\n",
       "    <tr>\n",
       "      <th>3</th>\n",
       "      <td>0.05</td>\n",
       "      <td>-3.97</td>\n",
       "    </tr>\n",
       "    <tr>\n",
       "      <th>4</th>\n",
       "      <td>0.05</td>\n",
       "      <td>-3.96</td>\n",
       "    </tr>\n",
       "    <tr>\n",
       "      <th>...</th>\n",
       "      <td>...</td>\n",
       "      <td>...</td>\n",
       "    </tr>\n",
       "    <tr>\n",
       "      <th>995</th>\n",
       "      <td>0.14</td>\n",
       "      <td>-3.05</td>\n",
       "    </tr>\n",
       "    <tr>\n",
       "      <th>996</th>\n",
       "      <td>0.14</td>\n",
       "      <td>-3.04</td>\n",
       "    </tr>\n",
       "    <tr>\n",
       "      <th>997</th>\n",
       "      <td>0.14</td>\n",
       "      <td>-3.03</td>\n",
       "    </tr>\n",
       "    <tr>\n",
       "      <th>998</th>\n",
       "      <td>0.14</td>\n",
       "      <td>-3.02</td>\n",
       "    </tr>\n",
       "    <tr>\n",
       "      <th>999</th>\n",
       "      <td>0.14</td>\n",
       "      <td>-3.01</td>\n",
       "    </tr>\n",
       "  </tbody>\n",
       "</table>\n",
       "<p>1000 rows × 2 columns</p>\n",
       "</div>"
      ],
      "text/plain": [
       "        w     b\n",
       "0    0.05 -4.00\n",
       "1    0.05 -3.99\n",
       "2    0.05 -3.98\n",
       "3    0.05 -3.97\n",
       "4    0.05 -3.96\n",
       "..    ...   ...\n",
       "995  0.14 -3.05\n",
       "996  0.14 -3.04\n",
       "997  0.14 -3.03\n",
       "998  0.14 -3.02\n",
       "999  0.14 -3.01\n",
       "\n",
       "[1000 rows x 2 columns]"
      ]
     },
     "execution_count": 44,
     "metadata": {},
     "output_type": "execute_result"
    }
   ],
   "source": [
    "df"
   ]
  },
  {
   "cell_type": "code",
   "execution_count": 57,
   "id": "a0f26622-c341-4999-834f-0b00d8811847",
   "metadata": {
    "tags": []
   },
   "outputs": [],
   "source": [
    "def sum_error_df(df):\n",
    "    train['sigmoid'] = 1/(1+np.exp(-(train['glucose']*df['w']+df['b'])))\n",
    "    train['loss_xi'] = -train['glucose']*np.log(train['sigmoid'])-(1-train['glucose'])*np.log(1-train['sigmoid'])\n",
    "    j_cost = train['loss_xi'].mean()\n",
    "    return(j_cost)"
   ]
  },
  {
   "cell_type": "code",
   "execution_count": 60,
   "id": "19e12649-f47a-4683-8b3a-fd60b6c5e924",
   "metadata": {
    "tags": []
   },
   "outputs": [],
   "source": [
    "df['error'] = df.apply(sum_error_df, axis=1)"
   ]
  },
  {
   "cell_type": "code",
   "execution_count": 61,
   "id": "ea03eca0-21dd-4998-8c4d-474ef1867189",
   "metadata": {
    "tags": []
   },
   "outputs": [
    {
     "data": {
      "text/html": [
       "<div>\n",
       "<style scoped>\n",
       "    .dataframe tbody tr th:only-of-type {\n",
       "        vertical-align: middle;\n",
       "    }\n",
       "\n",
       "    .dataframe tbody tr th {\n",
       "        vertical-align: top;\n",
       "    }\n",
       "\n",
       "    .dataframe thead th {\n",
       "        text-align: right;\n",
       "    }\n",
       "</style>\n",
       "<table border=\"1\" class=\"dataframe\">\n",
       "  <thead>\n",
       "    <tr style=\"text-align: right;\">\n",
       "      <th></th>\n",
       "      <th>w</th>\n",
       "      <th>b</th>\n",
       "      <th>error</th>\n",
       "    </tr>\n",
       "  </thead>\n",
       "  <tbody>\n",
       "    <tr>\n",
       "      <th>999</th>\n",
       "      <td>0.14</td>\n",
       "      <td>-3.01</td>\n",
       "      <td>-832.073719</td>\n",
       "    </tr>\n",
       "    <tr>\n",
       "      <th>998</th>\n",
       "      <td>0.14</td>\n",
       "      <td>-3.02</td>\n",
       "      <td>-831.240303</td>\n",
       "    </tr>\n",
       "    <tr>\n",
       "      <th>997</th>\n",
       "      <td>0.14</td>\n",
       "      <td>-3.03</td>\n",
       "      <td>-830.407315</td>\n",
       "    </tr>\n",
       "    <tr>\n",
       "      <th>996</th>\n",
       "      <td>0.14</td>\n",
       "      <td>-3.04</td>\n",
       "      <td>-829.573097</td>\n",
       "    </tr>\n",
       "    <tr>\n",
       "      <th>995</th>\n",
       "      <td>0.14</td>\n",
       "      <td>-3.05</td>\n",
       "      <td>-828.739286</td>\n",
       "    </tr>\n",
       "  </tbody>\n",
       "</table>\n",
       "</div>"
      ],
      "text/plain": [
       "        w     b       error\n",
       "999  0.14 -3.01 -832.073719\n",
       "998  0.14 -3.02 -831.240303\n",
       "997  0.14 -3.03 -830.407315\n",
       "996  0.14 -3.04 -829.573097\n",
       "995  0.14 -3.05 -828.739286"
      ]
     },
     "execution_count": 61,
     "metadata": {},
     "output_type": "execute_result"
    }
   ],
   "source": [
    "df.sort_values(by=['error']).head()"
   ]
  },
  {
   "cell_type": "code",
   "execution_count": 62,
   "id": "8565dabd-6f5b-45ef-96ff-83ae895721bc",
   "metadata": {
    "tags": []
   },
   "outputs": [],
   "source": [
    "df_3d = df.pivot(index='w', columns='b', values='error')"
   ]
  },
  {
   "cell_type": "code",
   "execution_count": 63,
   "id": "c87e06b4-7b68-4afd-b484-c7f0c212b63a",
   "metadata": {
    "tags": []
   },
   "outputs": [
    {
     "data": {
      "text/html": [
       "<div>\n",
       "<style scoped>\n",
       "    .dataframe tbody tr th:only-of-type {\n",
       "        vertical-align: middle;\n",
       "    }\n",
       "\n",
       "    .dataframe tbody tr th {\n",
       "        vertical-align: top;\n",
       "    }\n",
       "\n",
       "    .dataframe thead th {\n",
       "        text-align: right;\n",
       "    }\n",
       "</style>\n",
       "<table border=\"1\" class=\"dataframe\">\n",
       "  <thead>\n",
       "    <tr style=\"text-align: right;\">\n",
       "      <th>b</th>\n",
       "      <th>-4.00</th>\n",
       "      <th>-3.99</th>\n",
       "      <th>-3.98</th>\n",
       "      <th>-3.97</th>\n",
       "      <th>-3.96</th>\n",
       "      <th>-3.95</th>\n",
       "      <th>-3.94</th>\n",
       "      <th>-3.93</th>\n",
       "      <th>-3.92</th>\n",
       "      <th>-3.91</th>\n",
       "      <th>...</th>\n",
       "      <th>-3.10</th>\n",
       "      <th>-3.09</th>\n",
       "      <th>-3.08</th>\n",
       "      <th>-3.07</th>\n",
       "      <th>-3.06</th>\n",
       "      <th>-3.05</th>\n",
       "      <th>-3.04</th>\n",
       "      <th>-3.03</th>\n",
       "      <th>-3.02</th>\n",
       "      <th>-3.01</th>\n",
       "    </tr>\n",
       "    <tr>\n",
       "      <th>w</th>\n",
       "      <th></th>\n",
       "      <th></th>\n",
       "      <th></th>\n",
       "      <th></th>\n",
       "      <th></th>\n",
       "      <th></th>\n",
       "      <th></th>\n",
       "      <th></th>\n",
       "      <th></th>\n",
       "      <th></th>\n",
       "      <th></th>\n",
       "      <th></th>\n",
       "      <th></th>\n",
       "      <th></th>\n",
       "      <th></th>\n",
       "      <th></th>\n",
       "      <th></th>\n",
       "      <th></th>\n",
       "      <th></th>\n",
       "      <th></th>\n",
       "      <th></th>\n",
       "    </tr>\n",
       "  </thead>\n",
       "  <tbody>\n",
       "    <tr>\n",
       "      <th>0.05</th>\n",
       "      <td>-52.644211</td>\n",
       "      <td>-53.482581</td>\n",
       "      <td>-54.320929</td>\n",
       "      <td>-55.159254</td>\n",
       "      <td>-55.997557</td>\n",
       "      <td>-56.835838</td>\n",
       "      <td>-57.674097</td>\n",
       "      <td>-58.512334</td>\n",
       "      <td>-59.350549</td>\n",
       "      <td>-60.188742</td>\n",
       "      <td>...</td>\n",
       "      <td>-128.010984</td>\n",
       "      <td>-128.847457</td>\n",
       "      <td>-129.683911</td>\n",
       "      <td>-130.520347</td>\n",
       "      <td>-131.356763</td>\n",
       "      <td>-132.193161</td>\n",
       "      <td>-133.029540</td>\n",
       "      <td>-133.865900</td>\n",
       "      <td>-134.702242</td>\n",
       "      <td>-135.538565</td>\n",
       "    </tr>\n",
       "    <tr>\n",
       "      <th>0.06</th>\n",
       "      <td>-130.300745</td>\n",
       "      <td>-131.137467</td>\n",
       "      <td>-131.974171</td>\n",
       "      <td>-132.810855</td>\n",
       "      <td>-133.647520</td>\n",
       "      <td>-134.484166</td>\n",
       "      <td>-135.320793</td>\n",
       "      <td>-136.157400</td>\n",
       "      <td>-136.993989</td>\n",
       "      <td>-137.830560</td>\n",
       "      <td>...</td>\n",
       "      <td>-205.536030</td>\n",
       "      <td>-206.371280</td>\n",
       "      <td>-207.206516</td>\n",
       "      <td>-208.041740</td>\n",
       "      <td>-208.876950</td>\n",
       "      <td>-209.712148</td>\n",
       "      <td>-210.547333</td>\n",
       "      <td>-211.382505</td>\n",
       "      <td>-212.217665</td>\n",
       "      <td>-213.052812</td>\n",
       "    </tr>\n",
       "    <tr>\n",
       "      <th>0.07</th>\n",
       "      <td>-207.841501</td>\n",
       "      <td>-208.676959</td>\n",
       "      <td>-209.512403</td>\n",
       "      <td>-210.347833</td>\n",
       "      <td>-211.183249</td>\n",
       "      <td>-212.018652</td>\n",
       "      <td>-212.854041</td>\n",
       "      <td>-213.689417</td>\n",
       "      <td>-214.524779</td>\n",
       "      <td>-215.360128</td>\n",
       "      <td>...</td>\n",
       "      <td>-282.985141</td>\n",
       "      <td>-283.819621</td>\n",
       "      <td>-284.654092</td>\n",
       "      <td>-285.488556</td>\n",
       "      <td>-286.323012</td>\n",
       "      <td>-287.157460</td>\n",
       "      <td>-287.991900</td>\n",
       "      <td>-288.826333</td>\n",
       "      <td>-289.660758</td>\n",
       "      <td>-290.495175</td>\n",
       "    </tr>\n",
       "    <tr>\n",
       "      <th>0.08</th>\n",
       "      <td>-285.302560</td>\n",
       "      <td>-286.137187</td>\n",
       "      <td>-286.971805</td>\n",
       "      <td>-287.806415</td>\n",
       "      <td>-288.641016</td>\n",
       "      <td>-289.475608</td>\n",
       "      <td>-290.310191</td>\n",
       "      <td>-291.144766</td>\n",
       "      <td>-291.979333</td>\n",
       "      <td>-292.813891</td>\n",
       "      <td>...</td>\n",
       "      <td>-360.389950</td>\n",
       "      <td>-361.223990</td>\n",
       "      <td>-362.058025</td>\n",
       "      <td>-362.892056</td>\n",
       "      <td>-363.726083</td>\n",
       "      <td>-364.560105</td>\n",
       "      <td>-365.394122</td>\n",
       "      <td>-366.228136</td>\n",
       "      <td>-367.062145</td>\n",
       "      <td>-367.896150</td>\n",
       "    </tr>\n",
       "    <tr>\n",
       "      <th>0.09</th>\n",
       "      <td>-362.715262</td>\n",
       "      <td>-363.549396</td>\n",
       "      <td>-364.383526</td>\n",
       "      <td>-365.217650</td>\n",
       "      <td>-366.051769</td>\n",
       "      <td>-366.885884</td>\n",
       "      <td>-367.719993</td>\n",
       "      <td>-368.554097</td>\n",
       "      <td>-369.388196</td>\n",
       "      <td>-370.222290</td>\n",
       "      <td>...</td>\n",
       "      <td>-437.770741</td>\n",
       "      <td>-438.604543</td>\n",
       "      <td>-439.438342</td>\n",
       "      <td>-440.272139</td>\n",
       "      <td>-441.105934</td>\n",
       "      <td>-441.939726</td>\n",
       "      <td>-442.773516</td>\n",
       "      <td>-443.607303</td>\n",
       "      <td>-444.441088</td>\n",
       "      <td>-445.274871</td>\n",
       "    </tr>\n",
       "  </tbody>\n",
       "</table>\n",
       "<p>5 rows × 100 columns</p>\n",
       "</div>"
      ],
      "text/plain": [
       "b          -4.00       -3.99       -3.98       -3.97       -3.96       -3.95  \\\n",
       "w                                                                              \n",
       "0.05  -52.644211  -53.482581  -54.320929  -55.159254  -55.997557  -56.835838   \n",
       "0.06 -130.300745 -131.137467 -131.974171 -132.810855 -133.647520 -134.484166   \n",
       "0.07 -207.841501 -208.676959 -209.512403 -210.347833 -211.183249 -212.018652   \n",
       "0.08 -285.302560 -286.137187 -286.971805 -287.806415 -288.641016 -289.475608   \n",
       "0.09 -362.715262 -363.549396 -364.383526 -365.217650 -366.051769 -366.885884   \n",
       "\n",
       "b          -3.94       -3.93       -3.92       -3.91  ...       -3.10  \\\n",
       "w                                                     ...               \n",
       "0.05  -57.674097  -58.512334  -59.350549  -60.188742  ... -128.010984   \n",
       "0.06 -135.320793 -136.157400 -136.993989 -137.830560  ... -205.536030   \n",
       "0.07 -212.854041 -213.689417 -214.524779 -215.360128  ... -282.985141   \n",
       "0.08 -290.310191 -291.144766 -291.979333 -292.813891  ... -360.389950   \n",
       "0.09 -367.719993 -368.554097 -369.388196 -370.222290  ... -437.770741   \n",
       "\n",
       "b          -3.09       -3.08       -3.07       -3.06       -3.05       -3.04  \\\n",
       "w                                                                              \n",
       "0.05 -128.847457 -129.683911 -130.520347 -131.356763 -132.193161 -133.029540   \n",
       "0.06 -206.371280 -207.206516 -208.041740 -208.876950 -209.712148 -210.547333   \n",
       "0.07 -283.819621 -284.654092 -285.488556 -286.323012 -287.157460 -287.991900   \n",
       "0.08 -361.223990 -362.058025 -362.892056 -363.726083 -364.560105 -365.394122   \n",
       "0.09 -438.604543 -439.438342 -440.272139 -441.105934 -441.939726 -442.773516   \n",
       "\n",
       "b          -3.03       -3.02       -3.01  \n",
       "w                                         \n",
       "0.05 -133.865900 -134.702242 -135.538565  \n",
       "0.06 -211.382505 -212.217665 -213.052812  \n",
       "0.07 -288.826333 -289.660758 -290.495175  \n",
       "0.08 -366.228136 -367.062145 -367.896150  \n",
       "0.09 -443.607303 -444.441088 -445.274871  \n",
       "\n",
       "[5 rows x 100 columns]"
      ]
     },
     "execution_count": 63,
     "metadata": {},
     "output_type": "execute_result"
    }
   ],
   "source": [
    "df_3d.head()"
   ]
  },
  {
   "cell_type": "code",
   "execution_count": 64,
   "id": "05b60dee-a8d5-46ce-b079-900eb26f6ce6",
   "metadata": {
    "tags": []
   },
   "outputs": [],
   "source": [
    "import matplotlib as mpl\n",
    "import matplotlib.pyplot as plt\n",
    "from mpl_toolkits.mplot3d import Axes3D"
   ]
  },
  {
   "cell_type": "code",
   "execution_count": 65,
   "id": "f96decdc-d547-4911-aea6-c1a0600b1cfe",
   "metadata": {
    "tags": []
   },
   "outputs": [
    {
     "data": {
      "text/plain": [
       "<mpl_toolkits.mplot3d.art3d.Poly3DCollection at 0x19f28e1b7d0>"
      ]
     },
     "execution_count": 65,
     "metadata": {},
     "output_type": "execute_result"
    },
    {
     "data": {
      "image/png": "[encoded data removed]",
      "text/plain": [
       "<Figure size 640x480 with 1 Axes>"
      ]
     },
     "metadata": {},
     "output_type": "display_data"
    }
   ],
   "source": [
    "x = df_3d.columns\n",
    "y = df_3d.index\n",
    "X,Y = np.meshgrid(x,y)\n",
    "Z = df_3d\n",
    "\n",
    "fig = plt.figure()\n",
    "ax = fig.add_subplot(111, projection='3d')\n",
    "ax.plot_surface(X, Y, Z)"
   ]
  },
  {
   "cell_type": "code",
   "execution_count": 66,
   "id": "10e6c0c4-17dd-4a1b-9070-7b7fdf5a6cba",
   "metadata": {
    "tags": []
   },
   "outputs": [
    {
     "data": {
      "text/plain": [
       "<matplotlib.contour.QuadContourSet at 0x19f28f43bd0>"
      ]
     },
     "execution_count": 66,
     "metadata": {},
     "output_type": "execute_result"
    },
    {
     "data": {
      "image/png": "[encoded data removed]",
      "text/plain": [
       "<Figure size 640x480 with 1 Axes>"
      ]
     },
     "metadata": {},
     "output_type": "display_data"
    }
   ],
   "source": [
    "x = df_3d.columns\n",
    "y = df_3d.index\n",
    "X,Y = np.meshgrid(x,y)\n",
    "Z = df_3d\n",
    "plt.contourf(Y, X, Z, alpha=0.7, cmap=plt.cm.jet)"
   ]
  },
  {
   "cell_type": "code",
   "execution_count": 68,
   "id": "ed425719-0616-4def-a513-446fd64ec326",
   "metadata": {
    "tags": []
   },
   "outputs": [],
   "source": [
    "def delta_j_w(w, b):\n",
    "    train['sigmoid'] = 1/(1+np.exp(-(train['glucose']*w+b)))\n",
    "    train['partial_loss'] = (train['sigmoid']-train['age'])*train['glucose']\n",
    "    derivative = train['partial_loss'].mean()\n",
    "    return(derivative) \n",
    "\n",
    "def delta_j_b(w, b):\n",
    "    train['sigmoid'] = 1/(1+np.exp(-(train['glucose']*w+b)))\n",
    "    train['partial_loss'] = (train['sigmoid']-train['age'])\n",
    "    derivative = train['partial_loss'].mean()\n",
    "    return(derivative) "
   ]
  },
  {
   "cell_type": "code",
   "execution_count": 69,
   "id": "a6be875c-b14a-4abd-9eba-4dcb0e0cf835",
   "metadata": {
    "tags": []
   },
   "outputs": [],
   "source": [
    "w_0 = 0.09\n",
    "b_0 = -3.57"
   ]
  },
  {
   "cell_type": "code",
   "execution_count": 75,
   "id": "13e09da3-5bb7-43e8-a8d5-dbdb193edf33",
   "metadata": {
    "tags": []
   },
   "outputs": [
    {
     "name": "stdout",
     "output_type": "stream",
     "text": [
      "8.361483672495094 6.12906546820318\n"
     ]
    }
   ],
   "source": [
    "alpha_w = 0.001\n",
    "alpha_b = 0.1\n",
    "\n",
    "w_new = w_0 - alpha_w * delta_j_w(w_0, b_0)\n",
    "b_new = b_0 - alpha_b * delta_j_b(w_0, b_0)\n",
    "\n",
    "w_0 = w_new\n",
    "b_0 = b_new\n",
    "\n",
    "print(w_0, b_0)"
   ]
  },
  {
   "cell_type": "code",
   "execution_count": 76,
   "id": "1971a08d-64df-4fb8-9651-123caf55dec9",
   "metadata": {
    "tags": []
   },
   "outputs": [],
   "source": [
    "# valores optimos de sklearn (más abajo la explicación)\n",
    "# w = 0.09351691\n",
    "# b = -3.68596089"
   ]
  },
  {
   "cell_type": "code",
   "execution_count": 77,
   "id": "a378d9c4-1171-468c-af68-53186a27aa7b",
   "metadata": {
    "tags": []
   },
   "outputs": [
    {
     "name": "stdout",
     "output_type": "stream",
     "text": [
      "Intercepto (b): 44.047387751708136\n",
      "Pendiente (w): [0.06434063]\n"
     ]
    }
   ],
   "source": [
    "from sklearn.linear_model import LinearRegression\n",
    "\n",
    "# Definir input y output\n",
    "X_train = np.array(train['glucose']).reshape((-1, 1))\n",
    "Y_train = np.array(train['age'])\n",
    "\n",
    "# Crear el modelo de regresión lineal\n",
    "model = LinearRegression()\n",
    "model.fit(X_train, Y_train)\n",
    "\n",
    "# Imprimir parámetros\n",
    "print(f\"Intercepto (b): {model.intercept_}\")\n",
    "print(f\"Pendiente (w): {model.coef_}\")\n"
   ]
  },
  {
   "cell_type": "code",
   "execution_count": null,
   "id": "e31ed728-52a4-47e6-8da4-be6abd881453",
   "metadata": {},
   "outputs": [],
   "source": [
    "#El siguiente código que usamos en Python fue una datación de código expuesto en el siguiente link https://youtu.be/BHok3wJpmf0"
   ]
  }
 ],
 "metadata": {
  "kernelspec": {
   "display_name": "Python 3 (ipykernel)",
   "language": "python",
   "name": "python3"
  },
  "language_info": {
   "codemirror_mode": {
    "name": "ipython",
    "version": 3
   },
   "file_extension": ".py",
   "mimetype": "text/x-python",
   "name": "python",
   "nbconvert_exporter": "python",
   "pygments_lexer": "ipython3",
   "version": "3.11.4"
  }
 },
 "nbformat": 4,
 "nbformat_minor": 5
}
